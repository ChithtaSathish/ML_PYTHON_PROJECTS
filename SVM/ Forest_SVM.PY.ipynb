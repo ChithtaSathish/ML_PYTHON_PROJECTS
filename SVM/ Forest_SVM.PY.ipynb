{
 "cells": [
  {
   "cell_type": "markdown",
   "metadata": {},
   "source": [
    "classify the Size_Categorie using SVM\n",
    "\n",
    "month\tmonth of the year: 'jan' to 'dec'\n",
    "\n",
    "day\tday of the week: 'mon' to 'sun'\n",
    "\n",
    "FFMC\tFFMC index from the FWI system: 18.7 to 96.20\n",
    "\n",
    "DMC\tDMC index from the FWI system: 1.1 to 291.3\n",
    "\n",
    "DC\tDC index from the FWI system: 7.9 to 860.6\n",
    "\n",
    "ISI\tISI index from the FWI system: 0.0 to 56.10\n",
    "\n",
    "temp\ttemperature in Celsius degrees: 2.2 to 33.30\n",
    "\n",
    "RH\trelative humidity in %: 15.0 to 100\n",
    "\n",
    "wind\twind speed in km/h: 0.40 to 9.40\n",
    "\n",
    "rain\toutside rain in mm/m2 : 0.0 to 6.4\n",
    "\n",
    "Size_Categorie \tthe burned area of the forest ( Small , Large)"
   ]
  },
  {
   "cell_type": "code",
   "execution_count": 1,
   "metadata": {},
   "outputs": [
    {
     "data": {
      "text/html": [
       "<div>\n",
       "<style scoped>\n",
       "    .dataframe tbody tr th:only-of-type {\n",
       "        vertical-align: middle;\n",
       "    }\n",
       "\n",
       "    .dataframe tbody tr th {\n",
       "        vertical-align: top;\n",
       "    }\n",
       "\n",
       "    .dataframe thead th {\n",
       "        text-align: right;\n",
       "    }\n",
       "</style>\n",
       "<table border=\"1\" class=\"dataframe\">\n",
       "  <thead>\n",
       "    <tr style=\"text-align: right;\">\n",
       "      <th></th>\n",
       "      <th>month</th>\n",
       "      <th>day</th>\n",
       "      <th>FFMC</th>\n",
       "      <th>DMC</th>\n",
       "      <th>DC</th>\n",
       "      <th>ISI</th>\n",
       "      <th>temp</th>\n",
       "      <th>RH</th>\n",
       "      <th>wind</th>\n",
       "      <th>rain</th>\n",
       "      <th>...</th>\n",
       "      <th>monthfeb</th>\n",
       "      <th>monthjan</th>\n",
       "      <th>monthjul</th>\n",
       "      <th>monthjun</th>\n",
       "      <th>monthmar</th>\n",
       "      <th>monthmay</th>\n",
       "      <th>monthnov</th>\n",
       "      <th>monthoct</th>\n",
       "      <th>monthsep</th>\n",
       "      <th>size_category</th>\n",
       "    </tr>\n",
       "  </thead>\n",
       "  <tbody>\n",
       "    <tr>\n",
       "      <th>0</th>\n",
       "      <td>mar</td>\n",
       "      <td>fri</td>\n",
       "      <td>86.2</td>\n",
       "      <td>26.2</td>\n",
       "      <td>94.3</td>\n",
       "      <td>5.1</td>\n",
       "      <td>8.2</td>\n",
       "      <td>51</td>\n",
       "      <td>6.7</td>\n",
       "      <td>0.0</td>\n",
       "      <td>...</td>\n",
       "      <td>0</td>\n",
       "      <td>0</td>\n",
       "      <td>0</td>\n",
       "      <td>0</td>\n",
       "      <td>1</td>\n",
       "      <td>0</td>\n",
       "      <td>0</td>\n",
       "      <td>0</td>\n",
       "      <td>0</td>\n",
       "      <td>small</td>\n",
       "    </tr>\n",
       "    <tr>\n",
       "      <th>1</th>\n",
       "      <td>oct</td>\n",
       "      <td>tue</td>\n",
       "      <td>90.6</td>\n",
       "      <td>35.4</td>\n",
       "      <td>669.1</td>\n",
       "      <td>6.7</td>\n",
       "      <td>18.0</td>\n",
       "      <td>33</td>\n",
       "      <td>0.9</td>\n",
       "      <td>0.0</td>\n",
       "      <td>...</td>\n",
       "      <td>0</td>\n",
       "      <td>0</td>\n",
       "      <td>0</td>\n",
       "      <td>0</td>\n",
       "      <td>0</td>\n",
       "      <td>0</td>\n",
       "      <td>0</td>\n",
       "      <td>1</td>\n",
       "      <td>0</td>\n",
       "      <td>small</td>\n",
       "    </tr>\n",
       "    <tr>\n",
       "      <th>2</th>\n",
       "      <td>oct</td>\n",
       "      <td>sat</td>\n",
       "      <td>90.6</td>\n",
       "      <td>43.7</td>\n",
       "      <td>686.9</td>\n",
       "      <td>6.7</td>\n",
       "      <td>14.6</td>\n",
       "      <td>33</td>\n",
       "      <td>1.3</td>\n",
       "      <td>0.0</td>\n",
       "      <td>...</td>\n",
       "      <td>0</td>\n",
       "      <td>0</td>\n",
       "      <td>0</td>\n",
       "      <td>0</td>\n",
       "      <td>0</td>\n",
       "      <td>0</td>\n",
       "      <td>0</td>\n",
       "      <td>1</td>\n",
       "      <td>0</td>\n",
       "      <td>small</td>\n",
       "    </tr>\n",
       "    <tr>\n",
       "      <th>3</th>\n",
       "      <td>mar</td>\n",
       "      <td>fri</td>\n",
       "      <td>91.7</td>\n",
       "      <td>33.3</td>\n",
       "      <td>77.5</td>\n",
       "      <td>9.0</td>\n",
       "      <td>8.3</td>\n",
       "      <td>97</td>\n",
       "      <td>4.0</td>\n",
       "      <td>0.2</td>\n",
       "      <td>...</td>\n",
       "      <td>0</td>\n",
       "      <td>0</td>\n",
       "      <td>0</td>\n",
       "      <td>0</td>\n",
       "      <td>1</td>\n",
       "      <td>0</td>\n",
       "      <td>0</td>\n",
       "      <td>0</td>\n",
       "      <td>0</td>\n",
       "      <td>small</td>\n",
       "    </tr>\n",
       "    <tr>\n",
       "      <th>4</th>\n",
       "      <td>mar</td>\n",
       "      <td>sun</td>\n",
       "      <td>89.3</td>\n",
       "      <td>51.3</td>\n",
       "      <td>102.2</td>\n",
       "      <td>9.6</td>\n",
       "      <td>11.4</td>\n",
       "      <td>99</td>\n",
       "      <td>1.8</td>\n",
       "      <td>0.0</td>\n",
       "      <td>...</td>\n",
       "      <td>0</td>\n",
       "      <td>0</td>\n",
       "      <td>0</td>\n",
       "      <td>0</td>\n",
       "      <td>1</td>\n",
       "      <td>0</td>\n",
       "      <td>0</td>\n",
       "      <td>0</td>\n",
       "      <td>0</td>\n",
       "      <td>small</td>\n",
       "    </tr>\n",
       "  </tbody>\n",
       "</table>\n",
       "<p>5 rows × 31 columns</p>\n",
       "</div>"
      ],
      "text/plain": [
       "  month  day  FFMC   DMC     DC  ISI  temp  RH  wind  rain  ...  monthfeb  \\\n",
       "0   mar  fri  86.2  26.2   94.3  5.1   8.2  51   6.7   0.0  ...         0   \n",
       "1   oct  tue  90.6  35.4  669.1  6.7  18.0  33   0.9   0.0  ...         0   \n",
       "2   oct  sat  90.6  43.7  686.9  6.7  14.6  33   1.3   0.0  ...         0   \n",
       "3   mar  fri  91.7  33.3   77.5  9.0   8.3  97   4.0   0.2  ...         0   \n",
       "4   mar  sun  89.3  51.3  102.2  9.6  11.4  99   1.8   0.0  ...         0   \n",
       "\n",
       "   monthjan  monthjul  monthjun  monthmar  monthmay  monthnov  monthoct  \\\n",
       "0         0         0         0         1         0         0         0   \n",
       "1         0         0         0         0         0         0         1   \n",
       "2         0         0         0         0         0         0         1   \n",
       "3         0         0         0         1         0         0         0   \n",
       "4         0         0         0         1         0         0         0   \n",
       "\n",
       "   monthsep  size_category  \n",
       "0         0          small  \n",
       "1         0          small  \n",
       "2         0          small  \n",
       "3         0          small  \n",
       "4         0          small  \n",
       "\n",
       "[5 rows x 31 columns]"
      ]
     },
     "execution_count": 1,
     "metadata": {},
     "output_type": "execute_result"
    }
   ],
   "source": [
    "import pandas as pd\n",
    "import numpy as np\n",
    "forest_df=pd.read_csv(\"forestfires.csv\")\n",
    "forest_df.head()"
   ]
  },
  {
   "cell_type": "code",
   "execution_count": 2,
   "metadata": {},
   "outputs": [
    {
     "data": {
      "text/plain": [
       "Index(['month', 'day', 'FFMC', 'DMC', 'DC', 'ISI', 'temp', 'RH', 'wind',\n",
       "       'rain', 'area', 'dayfri', 'daymon', 'daysat', 'daysun', 'daythu',\n",
       "       'daytue', 'daywed', 'monthapr', 'monthaug', 'monthdec', 'monthfeb',\n",
       "       'monthjan', 'monthjul', 'monthjun', 'monthmar', 'monthmay', 'monthnov',\n",
       "       'monthoct', 'monthsep', 'size_category'],\n",
       "      dtype='object')"
      ]
     },
     "execution_count": 2,
     "metadata": {},
     "output_type": "execute_result"
    }
   ],
   "source": [
    "#here I am going to take few columns in forest_df data set\n",
    "forest_df.columns"
   ]
  },
  {
   "cell_type": "code",
   "execution_count": 3,
   "metadata": {},
   "outputs": [],
   "source": [
    "forest_data=forest_df[['month', 'day', 'FFMC', 'DMC', 'DC', 'ISI', 'temp', 'RH', 'wind',\n",
    "       'rain','size_category']]"
   ]
  },
  {
   "cell_type": "code",
   "execution_count": 4,
   "metadata": {},
   "outputs": [
    {
     "data": {
      "text/html": [
       "<div>\n",
       "<style scoped>\n",
       "    .dataframe tbody tr th:only-of-type {\n",
       "        vertical-align: middle;\n",
       "    }\n",
       "\n",
       "    .dataframe tbody tr th {\n",
       "        vertical-align: top;\n",
       "    }\n",
       "\n",
       "    .dataframe thead th {\n",
       "        text-align: right;\n",
       "    }\n",
       "</style>\n",
       "<table border=\"1\" class=\"dataframe\">\n",
       "  <thead>\n",
       "    <tr style=\"text-align: right;\">\n",
       "      <th></th>\n",
       "      <th>month</th>\n",
       "      <th>day</th>\n",
       "      <th>FFMC</th>\n",
       "      <th>DMC</th>\n",
       "      <th>DC</th>\n",
       "      <th>ISI</th>\n",
       "      <th>temp</th>\n",
       "      <th>RH</th>\n",
       "      <th>wind</th>\n",
       "      <th>rain</th>\n",
       "      <th>size_category</th>\n",
       "    </tr>\n",
       "  </thead>\n",
       "  <tbody>\n",
       "    <tr>\n",
       "      <th>0</th>\n",
       "      <td>mar</td>\n",
       "      <td>fri</td>\n",
       "      <td>86.2</td>\n",
       "      <td>26.2</td>\n",
       "      <td>94.3</td>\n",
       "      <td>5.1</td>\n",
       "      <td>8.2</td>\n",
       "      <td>51</td>\n",
       "      <td>6.7</td>\n",
       "      <td>0.0</td>\n",
       "      <td>small</td>\n",
       "    </tr>\n",
       "    <tr>\n",
       "      <th>1</th>\n",
       "      <td>oct</td>\n",
       "      <td>tue</td>\n",
       "      <td>90.6</td>\n",
       "      <td>35.4</td>\n",
       "      <td>669.1</td>\n",
       "      <td>6.7</td>\n",
       "      <td>18.0</td>\n",
       "      <td>33</td>\n",
       "      <td>0.9</td>\n",
       "      <td>0.0</td>\n",
       "      <td>small</td>\n",
       "    </tr>\n",
       "    <tr>\n",
       "      <th>2</th>\n",
       "      <td>oct</td>\n",
       "      <td>sat</td>\n",
       "      <td>90.6</td>\n",
       "      <td>43.7</td>\n",
       "      <td>686.9</td>\n",
       "      <td>6.7</td>\n",
       "      <td>14.6</td>\n",
       "      <td>33</td>\n",
       "      <td>1.3</td>\n",
       "      <td>0.0</td>\n",
       "      <td>small</td>\n",
       "    </tr>\n",
       "    <tr>\n",
       "      <th>3</th>\n",
       "      <td>mar</td>\n",
       "      <td>fri</td>\n",
       "      <td>91.7</td>\n",
       "      <td>33.3</td>\n",
       "      <td>77.5</td>\n",
       "      <td>9.0</td>\n",
       "      <td>8.3</td>\n",
       "      <td>97</td>\n",
       "      <td>4.0</td>\n",
       "      <td>0.2</td>\n",
       "      <td>small</td>\n",
       "    </tr>\n",
       "    <tr>\n",
       "      <th>4</th>\n",
       "      <td>mar</td>\n",
       "      <td>sun</td>\n",
       "      <td>89.3</td>\n",
       "      <td>51.3</td>\n",
       "      <td>102.2</td>\n",
       "      <td>9.6</td>\n",
       "      <td>11.4</td>\n",
       "      <td>99</td>\n",
       "      <td>1.8</td>\n",
       "      <td>0.0</td>\n",
       "      <td>small</td>\n",
       "    </tr>\n",
       "  </tbody>\n",
       "</table>\n",
       "</div>"
      ],
      "text/plain": [
       "  month  day  FFMC   DMC     DC  ISI  temp  RH  wind  rain size_category\n",
       "0   mar  fri  86.2  26.2   94.3  5.1   8.2  51   6.7   0.0         small\n",
       "1   oct  tue  90.6  35.4  669.1  6.7  18.0  33   0.9   0.0         small\n",
       "2   oct  sat  90.6  43.7  686.9  6.7  14.6  33   1.3   0.0         small\n",
       "3   mar  fri  91.7  33.3   77.5  9.0   8.3  97   4.0   0.2         small\n",
       "4   mar  sun  89.3  51.3  102.2  9.6  11.4  99   1.8   0.0         small"
      ]
     },
     "execution_count": 4,
     "metadata": {},
     "output_type": "execute_result"
    }
   ],
   "source": [
    "forest_data.head()"
   ]
  },
  {
   "cell_type": "code",
   "execution_count": 5,
   "metadata": {},
   "outputs": [
    {
     "data": {
      "text/plain": [
       "month            0\n",
       "day              0\n",
       "FFMC             0\n",
       "DMC              0\n",
       "DC               0\n",
       "ISI              0\n",
       "temp             0\n",
       "RH               0\n",
       "wind             0\n",
       "rain             0\n",
       "size_category    0\n",
       "dtype: int64"
      ]
     },
     "execution_count": 5,
     "metadata": {},
     "output_type": "execute_result"
    }
   ],
   "source": [
    "#check any null value present in the data set\n",
    "forest_data.isnull().sum()"
   ]
  },
  {
   "cell_type": "code",
   "execution_count": 6,
   "metadata": {},
   "outputs": [
    {
     "data": {
      "text/plain": [
       "aug    184\n",
       "sep    172\n",
       "mar     54\n",
       "jul     32\n",
       "feb     20\n",
       "jun     17\n",
       "oct     15\n",
       "dec      9\n",
       "apr      9\n",
       "may      2\n",
       "jan      2\n",
       "nov      1\n",
       "Name: month, dtype: int64"
      ]
     },
     "execution_count": 6,
     "metadata": {},
     "output_type": "execute_result"
    }
   ],
   "source": [
    "forest_data[\"month\"].value_counts()"
   ]
  },
  {
   "cell_type": "code",
   "execution_count": 7,
   "metadata": {},
   "outputs": [
    {
     "data": {
      "text/plain": [
       "sun    95\n",
       "fri    85\n",
       "sat    84\n",
       "mon    74\n",
       "tue    64\n",
       "thu    61\n",
       "wed    54\n",
       "Name: day, dtype: int64"
      ]
     },
     "execution_count": 7,
     "metadata": {},
     "output_type": "execute_result"
    }
   ],
   "source": [
    "forest_data[\"day\"].value_counts()"
   ]
  },
  {
   "cell_type": "code",
   "execution_count": 8,
   "metadata": {},
   "outputs": [
    {
     "data": {
      "text/plain": [
       "small    378\n",
       "large    139\n",
       "Name: size_category, dtype: int64"
      ]
     },
     "execution_count": 8,
     "metadata": {},
     "output_type": "execute_result"
    }
   ],
   "source": [
    "\n",
    "forest_data[\"size_category\"].value_counts()"
   ]
  },
  {
   "cell_type": "code",
   "execution_count": 9,
   "metadata": {},
   "outputs": [
    {
     "name": "stdout",
     "output_type": "stream",
     "text": [
      "<class 'pandas.core.frame.DataFrame'>\n",
      "RangeIndex: 517 entries, 0 to 516\n",
      "Data columns (total 11 columns):\n",
      " #   Column         Non-Null Count  Dtype  \n",
      "---  ------         --------------  -----  \n",
      " 0   month          517 non-null    object \n",
      " 1   day            517 non-null    object \n",
      " 2   FFMC           517 non-null    float64\n",
      " 3   DMC            517 non-null    float64\n",
      " 4   DC             517 non-null    float64\n",
      " 5   ISI            517 non-null    float64\n",
      " 6   temp           517 non-null    float64\n",
      " 7   RH             517 non-null    int64  \n",
      " 8   wind           517 non-null    float64\n",
      " 9   rain           517 non-null    float64\n",
      " 10  size_category  517 non-null    object \n",
      "dtypes: float64(7), int64(1), object(3)\n",
      "memory usage: 44.6+ KB\n"
     ]
    }
   ],
   "source": [
    "forest_data.info()"
   ]
  },
  {
   "cell_type": "code",
   "execution_count": 10,
   "metadata": {},
   "outputs": [
    {
     "data": {
      "text/plain": [
       "(517, 11)"
      ]
     },
     "execution_count": 10,
     "metadata": {},
     "output_type": "execute_result"
    }
   ],
   "source": [
    "forest_data.shape"
   ]
  },
  {
   "cell_type": "code",
   "execution_count": 11,
   "metadata": {},
   "outputs": [
    {
     "name": "stdout",
     "output_type": "stream",
     "text": [
      "apr\n",
      "    month  day  FFMC   DMC    DC   ISI  temp  RH  wind  rain size_category\n",
      "19    apr  sat  86.3  27.4  97.1   5.1   9.3  44   4.5   0.0         small\n",
      "176   apr  thu  81.5   9.1  55.2   2.7   5.8  54   5.8   0.0         small\n",
      "196   apr  thu  81.5   9.1  55.2   2.7   5.8  54   5.8   0.0         large\n",
      "239   apr  sun  81.9   3.0   7.9   3.5  13.4  75   1.8   0.0         small\n",
      "240   apr  wed  88.0  17.2  43.5   3.8  15.2  51   2.7   0.0         small\n",
      "241   apr  fri  83.0  23.3  85.3   2.3  16.7  20   3.1   0.0         small\n",
      "442   apr  mon  87.9  24.9  41.6   3.7  10.9  64   3.1   0.0         small\n",
      "469   apr  sun  91.0  14.6  25.6  12.3  13.7  33   9.4   0.0         large\n",
      "470   apr  sun  91.0  14.6  25.6  12.3  17.6  27   5.8   0.0         small\n",
      "aug\n",
      "    month  day  FFMC    DMC     DC   ISI  temp  RH  wind  rain size_category\n",
      "5     aug  sun  92.3   85.3  488.0  14.7  22.2  29   5.4   0.0         small\n",
      "6     aug  mon  92.3   88.9  495.6   8.5  24.1  27   3.1   0.0         small\n",
      "7     aug  mon  91.5  145.4  608.2  10.7   8.0  86   2.2   0.0         small\n",
      "12    aug  fri  63.5   70.8  665.3   0.8  17.0  72   6.7   0.0         small\n",
      "23    aug  sat  90.2  110.9  537.4   6.2  19.5  43   5.8   0.0         small\n",
      "..    ...  ...   ...    ...    ...   ...   ...  ..   ...   ...           ...\n",
      "511   aug  sun  81.6   56.7  665.6   1.9  27.8  35   2.7   0.0         small\n",
      "512   aug  sun  81.6   56.7  665.6   1.9  27.8  32   2.7   0.0         large\n",
      "513   aug  sun  81.6   56.7  665.6   1.9  21.9  71   5.8   0.0         large\n",
      "514   aug  sun  81.6   56.7  665.6   1.9  21.2  70   6.7   0.0         large\n",
      "515   aug  sat  94.4  146.0  614.7  11.3  25.6  42   4.0   0.0         small\n",
      "\n",
      "[184 rows x 11 columns]\n",
      "dec\n",
      "    month  day  FFMC   DMC     DC  ISI  temp  RH  wind  rain size_category\n",
      "273   dec  sun  84.4  27.2  353.5  6.8   4.8  57   8.5   0.0         large\n",
      "274   dec  wed  84.0  27.8  354.6  5.3   5.1  61   8.0   0.0         large\n",
      "275   dec  thu  84.6  26.4  352.0  2.0   5.1  61   4.9   0.0         small\n",
      "276   dec  mon  85.4  25.4  349.7  2.6   4.6  21   8.5   0.0         large\n",
      "277   dec  mon  85.4  25.4  349.7  2.6   4.6  21   8.5   0.0         large\n",
      "278   dec  mon  85.4  25.4  349.7  2.6   4.6  21   8.5   0.0         large\n",
      "279   dec  mon  85.4  25.4  349.7  2.6   4.6  21   8.5   0.0         large\n",
      "280   dec  fri  84.7  26.7  352.6  4.1   2.2  59   4.9   0.0         large\n",
      "281   dec  tue  85.4  25.4  349.7  2.6   5.1  24   8.5   0.0         large\n",
      "feb\n",
      "    month  day  FFMC   DMC     DC  ISI  temp  RH  wind  rain size_category\n",
      "58    feb  mon  84.0   9.3   34.0  2.1  13.9  40   5.4   0.0         small\n",
      "59    feb  fri  86.6  13.2   43.0  5.3  12.3  51   0.9   0.0         small\n",
      "75    feb  thu  84.2   6.8   26.6  7.7   6.7  79   3.1   0.0         small\n",
      "76    feb  fri  86.6  13.2   43.0  5.3  15.7  43   3.1   0.0         small\n",
      "96    feb  sat  83.9   8.0   30.2  2.6  12.7  48   1.8   0.0         small\n",
      "130   feb  sat  68.2  21.5   87.2  0.8  15.4  40   2.7   0.0         small\n",
      "182   feb  sun  86.8  15.6   48.3  3.9  12.4  53   2.2   0.0         large\n",
      "202   feb  sun  83.9   8.7   32.1  2.1   8.8  68   2.2   0.0         large\n",
      "282   feb  sun  84.9  27.5  353.5  3.4   4.2  51   4.0   0.0         small\n",
      "283   feb  wed  86.9   6.6   18.7  3.2   8.8  35   3.1   0.0         small\n",
      "284   feb  fri  85.2   4.9   15.8  6.3   7.5  46   8.0   0.0         large\n",
      "390   feb  mon  84.7   9.5   58.3  4.1   7.5  71   6.3   0.0         large\n",
      "394   feb  mon  84.1   4.6   46.7  2.2   5.3  68   1.8   0.0         small\n",
      "395   feb  sun  85.0   9.0   56.9  3.5  10.1  62   1.8   0.0         large\n",
      "407   feb  sat  84.7   8.2   55.0  2.9  14.2  46   4.0   0.0         small\n",
      "410   feb  fri  84.1   7.3   52.8  2.7  14.7  42   2.7   0.0         small\n",
      "411   feb  fri  84.6   3.2   43.6  3.3   8.2  53   9.4   0.0         small\n",
      "463   feb  tue  75.1   4.4   16.2  1.9   4.6  82   6.3   0.0         small\n",
      "464   feb  tue  75.1   4.4   16.2  1.9   5.1  77   5.4   0.0         small\n",
      "465   feb  sat  79.5   3.6   15.3  1.8   4.6  59   0.9   0.0         large\n",
      "jan\n",
      "    month  day  FFMC  DMC     DC  ISI  temp   RH  wind  rain size_category\n",
      "104   jan  sat  82.1  3.7    9.3  2.9   5.3   78   3.1   0.0         small\n",
      "379   jan  sun  18.7  1.1  171.4  0.0   5.2  100   0.9   0.0         small\n",
      "jul\n",
      "    month  day  FFMC    DMC     DC   ISI  temp  RH  wind  rain size_category\n",
      "40    jul  tue  79.5   60.6  366.7   1.5  23.3  37   3.1   0.0         small\n",
      "47    jul  mon  94.2   62.3  442.9  11.0  23.0  36   3.1   0.0         small\n",
      "138   jul  tue  85.8   48.3  313.4   3.9  18.0  42   2.7   0.0         small\n",
      "143   jul  sat  90.0   51.3  296.3   8.7  16.6  53   5.4   0.0         small\n",
      "151   jul  sun  90.1   68.6  355.2   7.2  24.8  29   2.2   0.0         small\n",
      "152   jul  sat  90.1   51.2  424.1   6.2  24.6  43   1.8   0.0         small\n",
      "223   jul  fri  88.3  150.3  309.9   6.8  13.4  79   3.6   0.0         large\n",
      "285   jul  sun  93.9  169.7  411.8  12.3  23.4  40   6.3   0.0         small\n",
      "286   jul  wed  91.2  183.1  437.7  12.5  12.6  90   7.6   0.2         small\n",
      "287   jul  sat  91.6  104.2  474.9   9.0  22.1  49   2.7   0.0         small\n",
      "288   jul  sat  91.6  104.2  474.9   9.0  24.2  32   1.8   0.0         small\n",
      "289   jul  sat  91.6  104.2  474.9   9.0  24.3  30   1.8   0.0         small\n",
      "290   jul  sat  91.6  104.2  474.9   9.0  18.7  53   1.8   0.0         small\n",
      "291   jul  sat  91.6  104.2  474.9   9.0  25.3  39   0.9   0.0         large\n",
      "292   jul  fri  91.6  100.2  466.3   6.3  22.9  40   1.3   0.0         small\n",
      "293   jul  tue  93.1  180.4  430.8  11.0  26.9  28   5.4   0.0         large\n",
      "294   jul  tue  92.3   88.8  440.9   8.5  17.1  67   3.6   0.0         large\n",
      "371   jul  wed  91.9  133.6  520.5   8.0  14.2  58   4.0   0.0         small\n",
      "380   jul  wed  93.7  101.3  458.8  11.9  19.3  39   7.2   0.0         large\n",
      "409   jul  tue  92.3   96.2  450.2  12.1  23.4  31   5.4   0.0         small\n",
      "412   jul  mon  92.3   92.1  442.1   9.8  22.8  27   4.5   0.0         small\n",
      "416   jul  tue  92.7  164.1  575.8   8.9  26.3  39   3.1   0.0         large\n",
      "422   jul  sun  88.9  263.1  795.9   5.2  29.3  27   3.6   0.0         large\n",
      "435   jul  sat  90.8   84.7  376.6   5.6  23.8  51   1.8   0.0         small\n",
      "443   jul  fri  90.7   80.9  368.3  16.8  14.8  78   8.0   0.0         small\n",
      "455   jul  mon  94.6  160.0  567.2  16.7  17.9  48   2.7   0.0         small\n",
      "476   jul  thu  93.5   85.3  395.0   9.9  27.2  28   1.3   0.0         small\n",
      "477   jul  sun  93.7  101.3  423.4  14.7  26.1  45   4.0   0.0         large\n",
      "478   jul  sun  93.7  101.3  423.4  14.7  18.2  82   4.5   0.0         small\n",
      "479   jul  mon  89.2  103.9  431.6   6.4  22.6  57   4.9   0.0         large\n",
      "480   jul  thu  93.2  114.4  560.0   9.5  30.2  25   4.5   0.0         small\n",
      "481   jul  thu  93.2  114.4  560.0   9.5  30.2  22   4.9   0.0         small\n",
      "jun\n",
      "    month  day  FFMC    DMC     DC   ISI  temp  RH  wind  rain size_category\n",
      "22    jun  sun  94.3   96.3  200.0  56.1  21.0  44   4.5   0.0         small\n",
      "150   jun  fri  92.5   56.4  433.3   7.1  23.2  39   5.4   0.0         small\n",
      "295   jun  sun  93.1  180.4  430.8  11.0  22.2  48   1.3   0.0         small\n",
      "296   jun  sun  90.4   89.5  290.8   6.4  14.3  46   1.8   0.0         small\n",
      "297   jun  sun  90.4   89.5  290.8   6.4  15.4  45   2.2   0.0         small\n",
      "298   jun  wed  91.2  147.8  377.2  12.7  19.6  43   4.9   0.0         small\n",
      "299   jun  sat  53.4   71.0  233.8   0.4  10.6  90   2.7   0.0         small\n",
      "300   jun  mon  90.4   93.3  298.1   7.5  20.7  25   4.9   0.0         small\n",
      "301   jun  mon  90.4   93.3  298.1   7.5  19.1  39   5.4   0.0         small\n",
      "302   jun  fri  91.1   94.1  232.1   7.1  19.2  38   4.5   0.0         small\n",
      "303   jun  fri  91.1   94.1  232.1   7.1  19.2  38   4.5   0.0         small\n",
      "399   jun  wed  93.3   49.5  297.7  14.0  28.0  34   4.5   0.0         small\n",
      "400   jun  wed  93.3   49.5  297.7  14.0  28.0  34   4.5   0.0         large\n",
      "472   jun  mon  88.2   96.2  229.0   4.7  14.3  79   4.0   0.0         small\n",
      "473   jun  sat  90.5   61.1  252.6   9.4  24.5  50   3.1   0.0         large\n",
      "474   jun  thu  93.0  103.8  316.7  10.8  26.4  35   2.7   0.0         large\n",
      "475   jun  thu  93.7  121.7  350.2  18.0  22.7  40   9.4   0.0         small\n",
      "mar\n",
      "    month  day  FFMC   DMC     DC   ISI  temp  RH  wind  rain size_category\n",
      "0     mar  fri  86.2  26.2   94.3   5.1   8.2  51   6.7   0.0         small\n",
      "3     mar  fri  91.7  33.3   77.5   9.0   8.3  97   4.0   0.2         small\n",
      "4     mar  sun  89.3  51.3  102.2   9.6  11.4  99   1.8   0.0         small\n",
      "16    mar  sat  91.7  35.8   80.8   7.8  15.1  27   5.4   0.0         small\n",
      "18    mar  wed  89.2  27.9   70.8   6.3  15.9  35   4.0   0.0         small\n",
      "39    mar  tue  88.1  25.7   67.6   3.8  14.1  43   2.7   0.0         small\n",
      "48    mar  mon  87.2  23.9   64.7   4.1  11.8  35   1.8   0.0         small\n",
      "49    mar  mon  87.6  52.2  103.8   5.0  11.0  46   5.8   0.0         small\n",
      "60    mar  sun  89.3  51.3  102.2   9.6  11.5  39   5.8   0.0         small\n",
      "61    mar  sun  89.3  51.3  102.2   9.6   5.5  59   6.3   0.0         small\n",
      "69    mar  fri  91.7  33.3   77.5   9.0  17.2  26   4.5   0.0         small\n",
      "70    mar  fri  91.2  48.3   97.8  12.5  15.8  27   7.6   0.0         small\n",
      "72    mar  fri  91.7  33.3   77.5   9.0  15.6  25   6.3   0.0         small\n",
      "77    mar  mon  87.6  52.2  103.8   5.0   8.3  72   3.1   0.0         small\n",
      "89    mar  sat  91.7  35.8   80.8   7.8  17.4  25   4.9   0.0         small\n",
      "91    mar  fri  91.7  35.8   80.8   7.8  17.4  24   5.4   0.0         small\n",
      "97    mar  sat  69.0   2.4   15.5   0.7  17.4  24   5.4   0.0         small\n",
      "105   mar  fri  85.9  19.5   57.3   2.8  12.7  52   6.3   0.0         small\n",
      "106   mar  thu  91.4  30.7   74.3   7.5  18.2  29   3.1   0.0         small\n",
      "110   mar  fri  85.9  19.5   57.3   2.8  13.7  43   5.8   0.0         small\n",
      "111   mar  fri  91.7  33.3   77.5   9.0  18.8  18   4.5   0.0         small\n",
      "114   mar  tue  88.1  25.7   67.6   3.8  15.8  27   7.6   0.0         small\n",
      "115   mar  tue  88.1  25.7   67.6   3.8  15.5  27   6.3   0.0         small\n",
      "116   mar  sat  91.7  35.8   80.8   7.8  11.6  30   6.3   0.0         small\n",
      "117   mar  sat  91.7  35.8   80.8   7.8  15.2  27   4.9   0.0         small\n",
      "118   mar  mon  90.1  39.7   86.6   6.2  10.6  30   4.0   0.0         small\n",
      "126   mar  mon  87.6  52.2  103.8   5.0   9.0  49   2.2   0.0         small\n",
      "131   mar  mon  87.2  23.9   64.7   4.1  14.0  39   3.1   0.0         small\n",
      "132   mar  sun  89.3  51.3  102.2   9.6  10.6  46   4.9   0.0         small\n",
      "134   mar  tue  88.1  25.7   67.6   3.8  14.9  38   2.7   0.0         small\n",
      "146   mar  mon  90.1  39.7   86.6   6.2  13.2  40   5.4   0.0         small\n",
      "160   mar  mon  90.1  39.7   86.6   6.2  16.1  29   3.1   0.0         small\n",
      "162   mar  sat  90.6  50.1  100.4   7.8  15.2  31   8.5   0.0         small\n",
      "165   mar  thu  84.9  18.2   55.0   3.0   5.3  70   4.5   0.0         small\n",
      "168   mar  fri  91.2  48.3   97.8  12.5  14.6  26   9.4   0.0         small\n",
      "186   mar  sun  89.3  51.3  102.2   9.6  11.5  39   5.8   0.0         large\n",
      "188   mar  sat  90.8  41.9   89.4   7.9  13.3  42   0.9   0.0         large\n",
      "189   mar  sun  90.7  44.0   92.4   5.5  11.5  60   4.0   0.0         large\n",
      "190   mar  fri  91.2  48.3   97.8  12.5  11.7  33   4.0   0.0         large\n",
      "201   mar  sun  90.1  37.6   83.7   7.2  12.4  54   3.6   0.0         large\n",
      "204   mar  sat  90.6  50.1  100.4   7.8  15.1  64   4.0   0.0         large\n",
      "213   mar  mon  87.6  52.2  103.8   5.0  11.0  46   5.8   0.0         large\n",
      "214   mar  sat  91.7  35.8   80.8   7.8  17.0  27   4.9   0.0         large\n",
      "215   mar  sat  91.7  35.8   80.8   7.8  17.0  27   4.9   0.0         large\n",
      "219   mar  mon  90.1  39.7   86.6   6.2  15.2  27   3.1   0.0         large\n",
      "222   mar  mon  87.6  52.2  103.8   5.0  11.0  46   5.8   0.0         large\n",
      "378   mar  thu  90.9  18.9   30.6   8.0   8.7  51   5.8   0.0         small\n",
      "387   mar  thu  90.9  18.9   30.6   8.0  11.6  48   5.4   0.0         small\n",
      "393   mar  tue  93.4  15.0   25.6  11.4  15.2  19   7.6   0.0         small\n",
      "417   mar  wed  93.4  17.3   28.3   9.9  13.8  24   5.8   0.0         small\n",
      "447   mar  wed  93.4  17.3   28.3   9.9   8.9  35   8.0   0.0         small\n",
      "466   mar  mon  87.2  15.1   36.9   7.1  10.2  45   5.8   0.0         small\n",
      "467   mar  wed  90.2  18.5   41.1   7.3  11.2  41   5.4   0.0         small\n"
     ]
    },
    {
     "name": "stdout",
     "output_type": "stream",
     "text": [
      "468   mar  thu  91.3  20.6   43.5   8.5  13.3  27   3.6   0.0         large\n",
      "may\n",
      "    month  day  FFMC   DMC     DC  ISI  temp  RH  wind  rain size_category\n",
      "304   may  sat  85.1  28.0  113.8  3.5  11.3  94   4.9   0.0         small\n",
      "471   may  fri  89.6  25.4   73.7  5.7  18.0  40   4.0   0.0         large\n",
      "nov\n",
      "    month  day  FFMC  DMC     DC  ISI  temp  RH  wind  rain size_category\n",
      "516   nov  tue  79.5  3.0  106.7  1.1  11.8  31   4.5   0.0         small\n",
      "oct\n",
      "    month  day  FFMC   DMC     DC   ISI  temp  RH  wind  rain size_category\n",
      "1     oct  tue  90.6  35.4  669.1   6.7  18.0  33   0.9   0.0         small\n",
      "2     oct  sat  90.6  43.7  686.9   6.7  14.6  33   1.3   0.0         small\n",
      "17    oct  mon  84.9  32.8  664.2   3.0  16.7  47   4.9   0.0         small\n",
      "36    oct  tue  90.6  35.4  669.1   6.7  21.7  24   4.5   0.0         small\n",
      "37    oct  fri  90.0  41.5  682.6   8.7  11.3  60   5.4   0.0         small\n",
      "38    oct  sat  90.6  43.7  686.9   6.7  17.8  27   4.0   0.0         small\n",
      "57    oct  sun  92.6  46.5  691.8   8.8  13.8  50   2.7   0.0         small\n",
      "125   oct  sun  92.6  46.5  691.8   8.8  20.6  24   5.4   0.0         small\n",
      "128   oct  wed  91.4  37.9  673.8   5.2  15.9  46   3.6   0.0         small\n",
      "129   oct  sun  92.6  46.5  691.8   8.8  15.4  35   0.9   0.0         small\n",
      "181   oct  mon  84.9  32.8  664.2   3.0  19.1  32   4.0   0.0         small\n",
      "183   oct  mon  91.7  48.5  696.1  11.1  16.8  45   4.5   0.0         large\n",
      "203   oct  wed  91.4  37.9  673.8   5.2  20.2  37   2.7   0.0         large\n",
      "210   oct  sat  90.6  43.7  686.9   6.7  18.4  25   3.1   0.0         large\n",
      "226   oct  mon  91.7  48.5  696.1  11.1  16.1  44   4.0   0.0         large\n",
      "sep\n",
      "    month  day  FFMC    DMC     DC   ISI  temp  RH  wind  rain size_category\n",
      "8     sep  tue  91.0  129.5  692.6   7.0  13.1  63   5.4   0.0         small\n",
      "9     sep  sat  92.5   88.0  698.6   7.1  22.8  40   4.0   0.0         small\n",
      "10    sep  sat  92.5   88.0  698.6   7.1  17.8  51   7.2   0.0         small\n",
      "11    sep  sat  92.8   73.2  713.0  22.6  19.3  38   4.0   0.0         small\n",
      "13    sep  mon  90.9  126.5  686.5   7.0  21.3  42   2.2   0.0         small\n",
      "..    ...  ...   ...    ...    ...   ...   ...  ..   ...   ...           ...\n",
      "439   sep  fri  91.1   91.3  738.1   7.2  19.1  46   2.2   0.0         small\n",
      "440   sep  fri  90.3  290.0  855.3   7.4  16.2  58   3.6   0.0         small\n",
      "444   sep  fri  90.3  290.0  855.3   7.4  16.2  58   3.6   0.0         large\n",
      "448   sep  wed  89.7  284.9  844.0  10.1  10.5  77   4.0   0.0         small\n",
      "462   sep  sun  91.0  276.3  825.1   7.1  14.5  76   7.6   0.0         small\n",
      "\n",
      "[172 rows x 11 columns]\n"
     ]
    }
   ],
   "source": [
    "# using groupby method to group month columns\n",
    "g=forest_data.groupby('month')\n",
    "for month,month_df in g:\n",
    "    print(month)\n",
    "    print(month_df)"
   ]
  },
  {
   "cell_type": "code",
   "execution_count": 12,
   "metadata": {},
   "outputs": [
    {
     "data": {
      "text/html": [
       "<div>\n",
       "<style scoped>\n",
       "    .dataframe tbody tr th:only-of-type {\n",
       "        vertical-align: middle;\n",
       "    }\n",
       "\n",
       "    .dataframe tbody tr th {\n",
       "        vertical-align: top;\n",
       "    }\n",
       "\n",
       "    .dataframe thead th {\n",
       "        text-align: right;\n",
       "    }\n",
       "</style>\n",
       "<table border=\"1\" class=\"dataframe\">\n",
       "  <thead>\n",
       "    <tr style=\"text-align: right;\">\n",
       "      <th></th>\n",
       "      <th>month</th>\n",
       "      <th>day</th>\n",
       "      <th>FFMC</th>\n",
       "      <th>DMC</th>\n",
       "      <th>DC</th>\n",
       "      <th>ISI</th>\n",
       "      <th>temp</th>\n",
       "      <th>RH</th>\n",
       "      <th>wind</th>\n",
       "      <th>rain</th>\n",
       "      <th>size_category</th>\n",
       "    </tr>\n",
       "  </thead>\n",
       "  <tbody>\n",
       "    <tr>\n",
       "      <th>5</th>\n",
       "      <td>aug</td>\n",
       "      <td>sun</td>\n",
       "      <td>92.3</td>\n",
       "      <td>85.3</td>\n",
       "      <td>488.0</td>\n",
       "      <td>14.7</td>\n",
       "      <td>22.2</td>\n",
       "      <td>29</td>\n",
       "      <td>5.4</td>\n",
       "      <td>0.0</td>\n",
       "      <td>small</td>\n",
       "    </tr>\n",
       "    <tr>\n",
       "      <th>6</th>\n",
       "      <td>aug</td>\n",
       "      <td>mon</td>\n",
       "      <td>92.3</td>\n",
       "      <td>88.9</td>\n",
       "      <td>495.6</td>\n",
       "      <td>8.5</td>\n",
       "      <td>24.1</td>\n",
       "      <td>27</td>\n",
       "      <td>3.1</td>\n",
       "      <td>0.0</td>\n",
       "      <td>small</td>\n",
       "    </tr>\n",
       "    <tr>\n",
       "      <th>7</th>\n",
       "      <td>aug</td>\n",
       "      <td>mon</td>\n",
       "      <td>91.5</td>\n",
       "      <td>145.4</td>\n",
       "      <td>608.2</td>\n",
       "      <td>10.7</td>\n",
       "      <td>8.0</td>\n",
       "      <td>86</td>\n",
       "      <td>2.2</td>\n",
       "      <td>0.0</td>\n",
       "      <td>small</td>\n",
       "    </tr>\n",
       "    <tr>\n",
       "      <th>12</th>\n",
       "      <td>aug</td>\n",
       "      <td>fri</td>\n",
       "      <td>63.5</td>\n",
       "      <td>70.8</td>\n",
       "      <td>665.3</td>\n",
       "      <td>0.8</td>\n",
       "      <td>17.0</td>\n",
       "      <td>72</td>\n",
       "      <td>6.7</td>\n",
       "      <td>0.0</td>\n",
       "      <td>small</td>\n",
       "    </tr>\n",
       "    <tr>\n",
       "      <th>23</th>\n",
       "      <td>aug</td>\n",
       "      <td>sat</td>\n",
       "      <td>90.2</td>\n",
       "      <td>110.9</td>\n",
       "      <td>537.4</td>\n",
       "      <td>6.2</td>\n",
       "      <td>19.5</td>\n",
       "      <td>43</td>\n",
       "      <td>5.8</td>\n",
       "      <td>0.0</td>\n",
       "      <td>small</td>\n",
       "    </tr>\n",
       "    <tr>\n",
       "      <th>...</th>\n",
       "      <td>...</td>\n",
       "      <td>...</td>\n",
       "      <td>...</td>\n",
       "      <td>...</td>\n",
       "      <td>...</td>\n",
       "      <td>...</td>\n",
       "      <td>...</td>\n",
       "      <td>...</td>\n",
       "      <td>...</td>\n",
       "      <td>...</td>\n",
       "      <td>...</td>\n",
       "    </tr>\n",
       "    <tr>\n",
       "      <th>511</th>\n",
       "      <td>aug</td>\n",
       "      <td>sun</td>\n",
       "      <td>81.6</td>\n",
       "      <td>56.7</td>\n",
       "      <td>665.6</td>\n",
       "      <td>1.9</td>\n",
       "      <td>27.8</td>\n",
       "      <td>35</td>\n",
       "      <td>2.7</td>\n",
       "      <td>0.0</td>\n",
       "      <td>small</td>\n",
       "    </tr>\n",
       "    <tr>\n",
       "      <th>512</th>\n",
       "      <td>aug</td>\n",
       "      <td>sun</td>\n",
       "      <td>81.6</td>\n",
       "      <td>56.7</td>\n",
       "      <td>665.6</td>\n",
       "      <td>1.9</td>\n",
       "      <td>27.8</td>\n",
       "      <td>32</td>\n",
       "      <td>2.7</td>\n",
       "      <td>0.0</td>\n",
       "      <td>large</td>\n",
       "    </tr>\n",
       "    <tr>\n",
       "      <th>513</th>\n",
       "      <td>aug</td>\n",
       "      <td>sun</td>\n",
       "      <td>81.6</td>\n",
       "      <td>56.7</td>\n",
       "      <td>665.6</td>\n",
       "      <td>1.9</td>\n",
       "      <td>21.9</td>\n",
       "      <td>71</td>\n",
       "      <td>5.8</td>\n",
       "      <td>0.0</td>\n",
       "      <td>large</td>\n",
       "    </tr>\n",
       "    <tr>\n",
       "      <th>514</th>\n",
       "      <td>aug</td>\n",
       "      <td>sun</td>\n",
       "      <td>81.6</td>\n",
       "      <td>56.7</td>\n",
       "      <td>665.6</td>\n",
       "      <td>1.9</td>\n",
       "      <td>21.2</td>\n",
       "      <td>70</td>\n",
       "      <td>6.7</td>\n",
       "      <td>0.0</td>\n",
       "      <td>large</td>\n",
       "    </tr>\n",
       "    <tr>\n",
       "      <th>515</th>\n",
       "      <td>aug</td>\n",
       "      <td>sat</td>\n",
       "      <td>94.4</td>\n",
       "      <td>146.0</td>\n",
       "      <td>614.7</td>\n",
       "      <td>11.3</td>\n",
       "      <td>25.6</td>\n",
       "      <td>42</td>\n",
       "      <td>4.0</td>\n",
       "      <td>0.0</td>\n",
       "      <td>small</td>\n",
       "    </tr>\n",
       "  </tbody>\n",
       "</table>\n",
       "<p>184 rows × 11 columns</p>\n",
       "</div>"
      ],
      "text/plain": [
       "    month  day  FFMC    DMC     DC   ISI  temp  RH  wind  rain size_category\n",
       "5     aug  sun  92.3   85.3  488.0  14.7  22.2  29   5.4   0.0         small\n",
       "6     aug  mon  92.3   88.9  495.6   8.5  24.1  27   3.1   0.0         small\n",
       "7     aug  mon  91.5  145.4  608.2  10.7   8.0  86   2.2   0.0         small\n",
       "12    aug  fri  63.5   70.8  665.3   0.8  17.0  72   6.7   0.0         small\n",
       "23    aug  sat  90.2  110.9  537.4   6.2  19.5  43   5.8   0.0         small\n",
       "..    ...  ...   ...    ...    ...   ...   ...  ..   ...   ...           ...\n",
       "511   aug  sun  81.6   56.7  665.6   1.9  27.8  35   2.7   0.0         small\n",
       "512   aug  sun  81.6   56.7  665.6   1.9  27.8  32   2.7   0.0         large\n",
       "513   aug  sun  81.6   56.7  665.6   1.9  21.9  71   5.8   0.0         large\n",
       "514   aug  sun  81.6   56.7  665.6   1.9  21.2  70   6.7   0.0         large\n",
       "515   aug  sat  94.4  146.0  614.7  11.3  25.6  42   4.0   0.0         small\n",
       "\n",
       "[184 rows x 11 columns]"
      ]
     },
     "execution_count": 12,
     "metadata": {},
     "output_type": "execute_result"
    }
   ],
   "source": [
    "g.get_group(\"aug\")"
   ]
  },
  {
   "cell_type": "code",
   "execution_count": 13,
   "metadata": {},
   "outputs": [
    {
     "name": "stdout",
     "output_type": "stream",
     "text": [
      "large\n",
      "    month  day  FFMC    DMC     DC   ISI  temp  RH  wind  rain size_category\n",
      "182   feb  sun  86.8   15.6   48.3   3.9  12.4  53   2.2   0.0         large\n",
      "183   oct  mon  91.7   48.5  696.1  11.1  16.8  45   4.5   0.0         large\n",
      "184   aug  fri  93.9  135.7  586.7  15.1  20.8  34   4.9   0.0         large\n",
      "185   sep  tue  91.0  129.5  692.6   7.0  17.6  46   3.1   0.0         large\n",
      "186   mar  sun  89.3   51.3  102.2   9.6  11.5  39   5.8   0.0         large\n",
      "..    ...  ...   ...    ...    ...   ...   ...  ..   ...   ...           ...\n",
      "499   aug  tue  96.1  181.1  671.2  14.3  27.3  63   4.9   6.4         large\n",
      "504   aug  wed  94.5  139.4  689.1  20.0  28.9  29   4.9   0.0         large\n",
      "512   aug  sun  81.6   56.7  665.6   1.9  27.8  32   2.7   0.0         large\n",
      "513   aug  sun  81.6   56.7  665.6   1.9  21.9  71   5.8   0.0         large\n",
      "514   aug  sun  81.6   56.7  665.6   1.9  21.2  70   6.7   0.0         large\n",
      "\n",
      "[139 rows x 11 columns]\n",
      "small\n",
      "    month  day  FFMC    DMC     DC   ISI  temp  RH  wind  rain size_category\n",
      "0     mar  fri  86.2   26.2   94.3   5.1   8.2  51   6.7   0.0         small\n",
      "1     oct  tue  90.6   35.4  669.1   6.7  18.0  33   0.9   0.0         small\n",
      "2     oct  sat  90.6   43.7  686.9   6.7  14.6  33   1.3   0.0         small\n",
      "3     mar  fri  91.7   33.3   77.5   9.0   8.3  97   4.0   0.2         small\n",
      "4     mar  sun  89.3   51.3  102.2   9.6  11.4  99   1.8   0.0         small\n",
      "..    ...  ...   ...    ...    ...   ...   ...  ..   ...   ...           ...\n",
      "509   aug  fri  91.0  166.9  752.6   7.1  21.1  71   7.6   1.4         small\n",
      "510   aug  fri  91.0  166.9  752.6   7.1  18.2  62   5.4   0.0         small\n",
      "511   aug  sun  81.6   56.7  665.6   1.9  27.8  35   2.7   0.0         small\n",
      "515   aug  sat  94.4  146.0  614.7  11.3  25.6  42   4.0   0.0         small\n",
      "516   nov  tue  79.5    3.0  106.7   1.1  11.8  31   4.5   0.0         small\n",
      "\n",
      "[378 rows x 11 columns]\n"
     ]
    }
   ],
   "source": [
    "# using groupby method to group size_category columns\n",
    "g=forest_data.groupby('size_category')\n",
    "for size,size_df in g:\n",
    "    print(size)\n",
    "    print(size_df)"
   ]
  },
  {
   "cell_type": "code",
   "execution_count": 14,
   "metadata": {},
   "outputs": [
    {
     "data": {
      "text/html": [
       "<div>\n",
       "<style scoped>\n",
       "    .dataframe tbody tr th:only-of-type {\n",
       "        vertical-align: middle;\n",
       "    }\n",
       "\n",
       "    .dataframe tbody tr th {\n",
       "        vertical-align: top;\n",
       "    }\n",
       "\n",
       "    .dataframe thead th {\n",
       "        text-align: right;\n",
       "    }\n",
       "</style>\n",
       "<table border=\"1\" class=\"dataframe\">\n",
       "  <thead>\n",
       "    <tr style=\"text-align: right;\">\n",
       "      <th></th>\n",
       "      <th>month</th>\n",
       "      <th>day</th>\n",
       "      <th>FFMC</th>\n",
       "      <th>DMC</th>\n",
       "      <th>DC</th>\n",
       "      <th>ISI</th>\n",
       "      <th>temp</th>\n",
       "      <th>RH</th>\n",
       "      <th>wind</th>\n",
       "      <th>rain</th>\n",
       "      <th>size_category</th>\n",
       "    </tr>\n",
       "  </thead>\n",
       "  <tbody>\n",
       "    <tr>\n",
       "      <th>0</th>\n",
       "      <td>mar</td>\n",
       "      <td>fri</td>\n",
       "      <td>86.2</td>\n",
       "      <td>26.2</td>\n",
       "      <td>94.3</td>\n",
       "      <td>5.1</td>\n",
       "      <td>8.2</td>\n",
       "      <td>51</td>\n",
       "      <td>6.7</td>\n",
       "      <td>0.0</td>\n",
       "      <td>small</td>\n",
       "    </tr>\n",
       "    <tr>\n",
       "      <th>1</th>\n",
       "      <td>oct</td>\n",
       "      <td>tue</td>\n",
       "      <td>90.6</td>\n",
       "      <td>35.4</td>\n",
       "      <td>669.1</td>\n",
       "      <td>6.7</td>\n",
       "      <td>18.0</td>\n",
       "      <td>33</td>\n",
       "      <td>0.9</td>\n",
       "      <td>0.0</td>\n",
       "      <td>small</td>\n",
       "    </tr>\n",
       "    <tr>\n",
       "      <th>2</th>\n",
       "      <td>oct</td>\n",
       "      <td>sat</td>\n",
       "      <td>90.6</td>\n",
       "      <td>43.7</td>\n",
       "      <td>686.9</td>\n",
       "      <td>6.7</td>\n",
       "      <td>14.6</td>\n",
       "      <td>33</td>\n",
       "      <td>1.3</td>\n",
       "      <td>0.0</td>\n",
       "      <td>small</td>\n",
       "    </tr>\n",
       "    <tr>\n",
       "      <th>3</th>\n",
       "      <td>mar</td>\n",
       "      <td>fri</td>\n",
       "      <td>91.7</td>\n",
       "      <td>33.3</td>\n",
       "      <td>77.5</td>\n",
       "      <td>9.0</td>\n",
       "      <td>8.3</td>\n",
       "      <td>97</td>\n",
       "      <td>4.0</td>\n",
       "      <td>0.2</td>\n",
       "      <td>small</td>\n",
       "    </tr>\n",
       "    <tr>\n",
       "      <th>4</th>\n",
       "      <td>mar</td>\n",
       "      <td>sun</td>\n",
       "      <td>89.3</td>\n",
       "      <td>51.3</td>\n",
       "      <td>102.2</td>\n",
       "      <td>9.6</td>\n",
       "      <td>11.4</td>\n",
       "      <td>99</td>\n",
       "      <td>1.8</td>\n",
       "      <td>0.0</td>\n",
       "      <td>small</td>\n",
       "    </tr>\n",
       "    <tr>\n",
       "      <th>...</th>\n",
       "      <td>...</td>\n",
       "      <td>...</td>\n",
       "      <td>...</td>\n",
       "      <td>...</td>\n",
       "      <td>...</td>\n",
       "      <td>...</td>\n",
       "      <td>...</td>\n",
       "      <td>...</td>\n",
       "      <td>...</td>\n",
       "      <td>...</td>\n",
       "      <td>...</td>\n",
       "    </tr>\n",
       "    <tr>\n",
       "      <th>509</th>\n",
       "      <td>aug</td>\n",
       "      <td>fri</td>\n",
       "      <td>91.0</td>\n",
       "      <td>166.9</td>\n",
       "      <td>752.6</td>\n",
       "      <td>7.1</td>\n",
       "      <td>21.1</td>\n",
       "      <td>71</td>\n",
       "      <td>7.6</td>\n",
       "      <td>1.4</td>\n",
       "      <td>small</td>\n",
       "    </tr>\n",
       "    <tr>\n",
       "      <th>510</th>\n",
       "      <td>aug</td>\n",
       "      <td>fri</td>\n",
       "      <td>91.0</td>\n",
       "      <td>166.9</td>\n",
       "      <td>752.6</td>\n",
       "      <td>7.1</td>\n",
       "      <td>18.2</td>\n",
       "      <td>62</td>\n",
       "      <td>5.4</td>\n",
       "      <td>0.0</td>\n",
       "      <td>small</td>\n",
       "    </tr>\n",
       "    <tr>\n",
       "      <th>511</th>\n",
       "      <td>aug</td>\n",
       "      <td>sun</td>\n",
       "      <td>81.6</td>\n",
       "      <td>56.7</td>\n",
       "      <td>665.6</td>\n",
       "      <td>1.9</td>\n",
       "      <td>27.8</td>\n",
       "      <td>35</td>\n",
       "      <td>2.7</td>\n",
       "      <td>0.0</td>\n",
       "      <td>small</td>\n",
       "    </tr>\n",
       "    <tr>\n",
       "      <th>515</th>\n",
       "      <td>aug</td>\n",
       "      <td>sat</td>\n",
       "      <td>94.4</td>\n",
       "      <td>146.0</td>\n",
       "      <td>614.7</td>\n",
       "      <td>11.3</td>\n",
       "      <td>25.6</td>\n",
       "      <td>42</td>\n",
       "      <td>4.0</td>\n",
       "      <td>0.0</td>\n",
       "      <td>small</td>\n",
       "    </tr>\n",
       "    <tr>\n",
       "      <th>516</th>\n",
       "      <td>nov</td>\n",
       "      <td>tue</td>\n",
       "      <td>79.5</td>\n",
       "      <td>3.0</td>\n",
       "      <td>106.7</td>\n",
       "      <td>1.1</td>\n",
       "      <td>11.8</td>\n",
       "      <td>31</td>\n",
       "      <td>4.5</td>\n",
       "      <td>0.0</td>\n",
       "      <td>small</td>\n",
       "    </tr>\n",
       "  </tbody>\n",
       "</table>\n",
       "<p>378 rows × 11 columns</p>\n",
       "</div>"
      ],
      "text/plain": [
       "    month  day  FFMC    DMC     DC   ISI  temp  RH  wind  rain size_category\n",
       "0     mar  fri  86.2   26.2   94.3   5.1   8.2  51   6.7   0.0         small\n",
       "1     oct  tue  90.6   35.4  669.1   6.7  18.0  33   0.9   0.0         small\n",
       "2     oct  sat  90.6   43.7  686.9   6.7  14.6  33   1.3   0.0         small\n",
       "3     mar  fri  91.7   33.3   77.5   9.0   8.3  97   4.0   0.2         small\n",
       "4     mar  sun  89.3   51.3  102.2   9.6  11.4  99   1.8   0.0         small\n",
       "..    ...  ...   ...    ...    ...   ...   ...  ..   ...   ...           ...\n",
       "509   aug  fri  91.0  166.9  752.6   7.1  21.1  71   7.6   1.4         small\n",
       "510   aug  fri  91.0  166.9  752.6   7.1  18.2  62   5.4   0.0         small\n",
       "511   aug  sun  81.6   56.7  665.6   1.9  27.8  35   2.7   0.0         small\n",
       "515   aug  sat  94.4  146.0  614.7  11.3  25.6  42   4.0   0.0         small\n",
       "516   nov  tue  79.5    3.0  106.7   1.1  11.8  31   4.5   0.0         small\n",
       "\n",
       "[378 rows x 11 columns]"
      ]
     },
     "execution_count": 14,
     "metadata": {},
     "output_type": "execute_result"
    }
   ],
   "source": [
    "g.get_group(\"small\")"
   ]
  },
  {
   "cell_type": "markdown",
   "metadata": {},
   "source": [
    "# visualization\n"
   ]
  },
  {
   "cell_type": "code",
   "execution_count": 15,
   "metadata": {},
   "outputs": [
    {
     "name": "stderr",
     "output_type": "stream",
     "text": [
      "C:\\Users\\sathi\\Anaconda3\\lib\\site-packages\\statsmodels\\tools\\_testing.py:19: FutureWarning: pandas.util.testing is deprecated. Use the functions in the public API at pandas.testing instead.\n",
      "  import pandas.util.testing as tm\n"
     ]
    }
   ],
   "source": [
    "import seaborn as sns\n",
    "import matplotlib.pyplot as plt"
   ]
  },
  {
   "cell_type": "code",
   "execution_count": 16,
   "metadata": {},
   "outputs": [
    {
     "data": {
      "text/plain": [
       "<AxesSubplot:xlabel='size_category', ylabel='count'>"
      ]
     },
     "execution_count": 16,
     "metadata": {},
     "output_type": "execute_result"
    },
    {
     "data": {
      "image/png": "[encoded data removed]",
      "text/plain": [
       "<Figure size 432x288 with 1 Axes>"
      ]
     },
     "metadata": {},
     "output_type": "display_data"
    }
   ],
   "source": [
    "#visualize number of size_category\n",
    "sns.set_style(\"whitegrid\")\n",
    "sns.countplot(x=\"size_category\",data=forest_data)"
   ]
  },
  {
   "cell_type": "code",
   "execution_count": 17,
   "metadata": {},
   "outputs": [
    {
     "data": {
      "text/plain": [
       "<AxesSubplot:xlabel='month', ylabel='count'>"
      ]
     },
     "execution_count": 17,
     "metadata": {},
     "output_type": "execute_result"
    },
    {
     "data": {
      "image/png": "[encoded data removed]",
      "text/plain": [
       "<Figure size 432x288 with 1 Axes>"
      ]
     },
     "metadata": {},
     "output_type": "display_data"
    }
   ],
   "source": [
    "#visualize number of month category\n",
    "sns.set_style(\"whitegrid\")\n",
    "sns.countplot(x=\"month\",data=forest_data)"
   ]
  },
  {
   "cell_type": "code",
   "execution_count": 18,
   "metadata": {},
   "outputs": [
    {
     "data": {
      "text/plain": [
       "<AxesSubplot:xlabel='month', ylabel='temp'>"
      ]
     },
     "execution_count": 18,
     "metadata": {},
     "output_type": "execute_result"
    },
    {
     "data": {
      "image/png": "[encoded data removed]",
      "text/plain": [
       "<Figure size 864x504 with 1 Axes>"
      ]
     },
     "metadata": {},
     "output_type": "display_data"
    }
   ],
   "source": [
    "#using box chart to visualize temperature on month  basis using seaborn\n",
    "plt.figure(figsize=(12,7))\n",
    "sns.boxplot(x='month',y='temp',data=forest_data,palette='winter')"
   ]
  },
  {
   "cell_type": "markdown",
   "metadata": {},
   "source": [
    "here we can see that the temperature on month basis. here the month july has showing high temperature, month\n",
    "\n",
    "december showing low temperature"
   ]
  },
  {
   "cell_type": "code",
   "execution_count": 19,
   "metadata": {},
   "outputs": [
    {
     "data": {
      "text/plain": [
       "day\n",
       "fri    85\n",
       "mon    74\n",
       "sat    84\n",
       "sun    95\n",
       "thu    61\n",
       "tue    64\n",
       "wed    54\n",
       "Name: rain, dtype: int64"
      ]
     },
     "execution_count": 19,
     "metadata": {},
     "output_type": "execute_result"
    }
   ],
   "source": [
    "#rain count in day wise\n",
    "forest_data.groupby('day').rain.count()"
   ]
  },
  {
   "cell_type": "code",
   "execution_count": 20,
   "metadata": {
    "scrolled": true
   },
   "outputs": [
    {
     "name": "stderr",
     "output_type": "stream",
     "text": [
      "C:\\Users\\sathi\\Anaconda3\\lib\\site-packages\\pandas\\plotting\\_matplotlib\\core.py:1235: UserWarning: FixedFormatter should only be used together with FixedLocator\n",
      "  ax.set_xticklabels(xticklabels)\n"
     ]
    },
    {
     "data": {
      "text/plain": [
       "<AxesSubplot:xlabel='day'>"
      ]
     },
     "execution_count": 20,
     "metadata": {},
     "output_type": "execute_result"
    },
    {
     "data": {
      "image/png": "[encoded data removed]",
      "text/plain": [
       "<Figure size 432x288 with 1 Axes>"
      ]
     },
     "metadata": {},
     "output_type": "display_data"
    }
   ],
   "source": [
    "forest_data.groupby('day').rain.count().plot()"
   ]
  },
  {
   "cell_type": "code",
   "execution_count": 21,
   "metadata": {},
   "outputs": [
    {
     "data": {
      "text/plain": [
       "<AxesSubplot:xlabel='temp'>"
      ]
     },
     "execution_count": 21,
     "metadata": {},
     "output_type": "execute_result"
    },
    {
     "data": {
      "image/png": "[encoded data removed]",
      "text/plain": [
       "<Figure size 432x288 with 1 Axes>"
      ]
     },
     "metadata": {},
     "output_type": "display_data"
    }
   ],
   "source": [
    "sns.distplot(forest_data[\"temp\"])"
   ]
  },
  {
   "cell_type": "code",
   "execution_count": null,
   "metadata": {},
   "outputs": [],
   "source": []
  },
  {
   "cell_type": "markdown",
   "metadata": {},
   "source": [
    "here many attributes are in categorical format, so convert it in a numerical form"
   ]
  },
  {
   "cell_type": "code",
   "execution_count": 22,
   "metadata": {},
   "outputs": [
    {
     "name": "stdout",
     "output_type": "stream",
     "text": [
      "<class 'pandas.core.frame.DataFrame'>\n",
      "RangeIndex: 517 entries, 0 to 516\n",
      "Data columns (total 11 columns):\n",
      " #   Column         Non-Null Count  Dtype  \n",
      "---  ------         --------------  -----  \n",
      " 0   month          517 non-null    object \n",
      " 1   day            517 non-null    object \n",
      " 2   FFMC           517 non-null    float64\n",
      " 3   DMC            517 non-null    float64\n",
      " 4   DC             517 non-null    float64\n",
      " 5   ISI            517 non-null    float64\n",
      " 6   temp           517 non-null    float64\n",
      " 7   RH             517 non-null    int64  \n",
      " 8   wind           517 non-null    float64\n",
      " 9   rain           517 non-null    float64\n",
      " 10  size_category  517 non-null    object \n",
      "dtypes: float64(7), int64(1), object(3)\n",
      "memory usage: 44.6+ KB\n"
     ]
    }
   ],
   "source": [
    "forest_data.info()"
   ]
  },
  {
   "cell_type": "code",
   "execution_count": 23,
   "metadata": {},
   "outputs": [],
   "source": [
    "strings=[\"month\",\"day\",\"size_category\"]"
   ]
  },
  {
   "cell_type": "code",
   "execution_count": 24,
   "metadata": {},
   "outputs": [
    {
     "name": "stderr",
     "output_type": "stream",
     "text": [
      "C:\\Users\\sathi\\Anaconda3\\lib\\site-packages\\ipykernel_launcher.py:4: SettingWithCopyWarning: \n",
      "A value is trying to be set on a copy of a slice from a DataFrame.\n",
      "Try using .loc[row_indexer,col_indexer] = value instead\n",
      "\n",
      "See the caveats in the documentation: https://pandas.pydata.org/pandas-docs/stable/user_guide/indexing.html#returning-a-view-versus-a-copy\n",
      "  after removing the cwd from sys.path.\n"
     ]
    }
   ],
   "source": [
    "from sklearn import preprocessing\n",
    "number = preprocessing.LabelEncoder()\n",
    "for i in strings:\n",
    "     forest_data[i] = number.fit_transform(forest_data[i])"
   ]
  },
  {
   "cell_type": "code",
   "execution_count": 25,
   "metadata": {},
   "outputs": [
    {
     "data": {
      "text/html": [
       "<div>\n",
       "<style scoped>\n",
       "    .dataframe tbody tr th:only-of-type {\n",
       "        vertical-align: middle;\n",
       "    }\n",
       "\n",
       "    .dataframe tbody tr th {\n",
       "        vertical-align: top;\n",
       "    }\n",
       "\n",
       "    .dataframe thead th {\n",
       "        text-align: right;\n",
       "    }\n",
       "</style>\n",
       "<table border=\"1\" class=\"dataframe\">\n",
       "  <thead>\n",
       "    <tr style=\"text-align: right;\">\n",
       "      <th></th>\n",
       "      <th>month</th>\n",
       "      <th>day</th>\n",
       "      <th>FFMC</th>\n",
       "      <th>DMC</th>\n",
       "      <th>DC</th>\n",
       "      <th>ISI</th>\n",
       "      <th>temp</th>\n",
       "      <th>RH</th>\n",
       "      <th>wind</th>\n",
       "      <th>rain</th>\n",
       "      <th>size_category</th>\n",
       "    </tr>\n",
       "  </thead>\n",
       "  <tbody>\n",
       "    <tr>\n",
       "      <th>0</th>\n",
       "      <td>7</td>\n",
       "      <td>0</td>\n",
       "      <td>86.2</td>\n",
       "      <td>26.2</td>\n",
       "      <td>94.3</td>\n",
       "      <td>5.1</td>\n",
       "      <td>8.2</td>\n",
       "      <td>51</td>\n",
       "      <td>6.7</td>\n",
       "      <td>0.0</td>\n",
       "      <td>1</td>\n",
       "    </tr>\n",
       "    <tr>\n",
       "      <th>1</th>\n",
       "      <td>10</td>\n",
       "      <td>5</td>\n",
       "      <td>90.6</td>\n",
       "      <td>35.4</td>\n",
       "      <td>669.1</td>\n",
       "      <td>6.7</td>\n",
       "      <td>18.0</td>\n",
       "      <td>33</td>\n",
       "      <td>0.9</td>\n",
       "      <td>0.0</td>\n",
       "      <td>1</td>\n",
       "    </tr>\n",
       "    <tr>\n",
       "      <th>2</th>\n",
       "      <td>10</td>\n",
       "      <td>2</td>\n",
       "      <td>90.6</td>\n",
       "      <td>43.7</td>\n",
       "      <td>686.9</td>\n",
       "      <td>6.7</td>\n",
       "      <td>14.6</td>\n",
       "      <td>33</td>\n",
       "      <td>1.3</td>\n",
       "      <td>0.0</td>\n",
       "      <td>1</td>\n",
       "    </tr>\n",
       "    <tr>\n",
       "      <th>3</th>\n",
       "      <td>7</td>\n",
       "      <td>0</td>\n",
       "      <td>91.7</td>\n",
       "      <td>33.3</td>\n",
       "      <td>77.5</td>\n",
       "      <td>9.0</td>\n",
       "      <td>8.3</td>\n",
       "      <td>97</td>\n",
       "      <td>4.0</td>\n",
       "      <td>0.2</td>\n",
       "      <td>1</td>\n",
       "    </tr>\n",
       "    <tr>\n",
       "      <th>4</th>\n",
       "      <td>7</td>\n",
       "      <td>3</td>\n",
       "      <td>89.3</td>\n",
       "      <td>51.3</td>\n",
       "      <td>102.2</td>\n",
       "      <td>9.6</td>\n",
       "      <td>11.4</td>\n",
       "      <td>99</td>\n",
       "      <td>1.8</td>\n",
       "      <td>0.0</td>\n",
       "      <td>1</td>\n",
       "    </tr>\n",
       "  </tbody>\n",
       "</table>\n",
       "</div>"
      ],
      "text/plain": [
       "   month  day  FFMC   DMC     DC  ISI  temp  RH  wind  rain  size_category\n",
       "0      7    0  86.2  26.2   94.3  5.1   8.2  51   6.7   0.0              1\n",
       "1     10    5  90.6  35.4  669.1  6.7  18.0  33   0.9   0.0              1\n",
       "2     10    2  90.6  43.7  686.9  6.7  14.6  33   1.3   0.0              1\n",
       "3      7    0  91.7  33.3   77.5  9.0   8.3  97   4.0   0.2              1\n",
       "4      7    3  89.3  51.3  102.2  9.6  11.4  99   1.8   0.0              1"
      ]
     },
     "execution_count": 25,
     "metadata": {},
     "output_type": "execute_result"
    }
   ],
   "source": [
    "forest_data.head()"
   ]
  },
  {
   "cell_type": "code",
   "execution_count": 26,
   "metadata": {},
   "outputs": [
    {
     "name": "stdout",
     "output_type": "stream",
     "text": [
      "<class 'pandas.core.frame.DataFrame'>\n",
      "RangeIndex: 517 entries, 0 to 516\n",
      "Data columns (total 11 columns):\n",
      " #   Column         Non-Null Count  Dtype  \n",
      "---  ------         --------------  -----  \n",
      " 0   month          517 non-null    int32  \n",
      " 1   day            517 non-null    int32  \n",
      " 2   FFMC           517 non-null    float64\n",
      " 3   DMC            517 non-null    float64\n",
      " 4   DC             517 non-null    float64\n",
      " 5   ISI            517 non-null    float64\n",
      " 6   temp           517 non-null    float64\n",
      " 7   RH             517 non-null    int64  \n",
      " 8   wind           517 non-null    float64\n",
      " 9   rain           517 non-null    float64\n",
      " 10  size_category  517 non-null    int32  \n",
      "dtypes: float64(7), int32(3), int64(1)\n",
      "memory usage: 38.5 KB\n"
     ]
    }
   ],
   "source": [
    "forest_data.info()"
   ]
  },
  {
   "cell_type": "markdown",
   "metadata": {},
   "source": [
    "# # Feature Engineering"
   ]
  },
  {
   "cell_type": "code",
   "execution_count": 27,
   "metadata": {},
   "outputs": [],
   "source": [
    "#here size_category is our target vriable"
   ]
  },
  {
   "cell_type": "markdown",
   "metadata": {},
   "source": [
    "# Training and splitting the data"
   ]
  },
  {
   "cell_type": "code",
   "execution_count": 28,
   "metadata": {},
   "outputs": [
    {
     "data": {
      "text/plain": [
       "Index(['month', 'day', 'FFMC', 'DMC', 'DC', 'ISI', 'temp', 'RH', 'wind',\n",
       "       'rain', 'size_category'],\n",
       "      dtype='object')"
      ]
     },
     "execution_count": 28,
     "metadata": {},
     "output_type": "execute_result"
    }
   ],
   "source": [
    "forest_data.columns"
   ]
  },
  {
   "cell_type": "code",
   "execution_count": 29,
   "metadata": {},
   "outputs": [],
   "source": [
    "feature_names=['month', 'day', 'FFMC', 'DMC', 'DC', 'ISI', 'temp', 'RH', 'wind',\n",
    "       'rain']\n"
   ]
  },
  {
   "cell_type": "code",
   "execution_count": 30,
   "metadata": {},
   "outputs": [],
   "source": [
    "X = forest_data[feature_names] #Feature\n",
    "y = forest_data['size_category']"
   ]
  },
  {
   "cell_type": "code",
   "execution_count": 31,
   "metadata": {},
   "outputs": [],
   "source": [
    "from sklearn.model_selection import train_test_split\n",
    "X_train, X_test, y_train, y_test = train_test_split(X, y,random_state=0)\n",
    "from sklearn.preprocessing import MinMaxScaler\n",
    "scaler = MinMaxScaler()\n",
    "X_train = scaler.fit_transform(X_train)\n",
    "X_test = scaler.transform(X_test)"
   ]
  },
  {
   "cell_type": "code",
   "execution_count": 32,
   "metadata": {},
   "outputs": [
    {
     "data": {
      "text/plain": [
       "((387, 10), (387,), (130, 10), (130,))"
      ]
     },
     "execution_count": 32,
     "metadata": {},
     "output_type": "execute_result"
    }
   ],
   "source": [
    "X_train.shape,y_train.shape,X_test.shape,y_test.shape"
   ]
  },
  {
   "cell_type": "markdown",
   "metadata": {},
   "source": [
    "# BUILDING SUPPORT VECTOR MACHINE"
   ]
  },
  {
   "cell_type": "code",
   "execution_count": 33,
   "metadata": {},
   "outputs": [],
   "source": [
    "from sklearn.svm import SVC # \"Support Vector Classifier\" \n",
    "model = SVC(kernel='linear')"
   ]
  },
  {
   "cell_type": "code",
   "execution_count": 34,
   "metadata": {},
   "outputs": [
    {
     "data": {
      "text/plain": [
       "SVC(kernel='linear')"
      ]
     },
     "execution_count": 34,
     "metadata": {},
     "output_type": "execute_result"
    }
   ],
   "source": [
    "model.fit(X_train,y_train)"
   ]
  },
  {
   "cell_type": "code",
   "execution_count": 35,
   "metadata": {},
   "outputs": [
    {
     "data": {
      "text/plain": [
       "array([1, 1, 1, 1, 1, 1, 1, 1, 1, 1, 1, 1, 1, 1, 1, 1, 1, 1, 1, 1, 1, 1,\n",
       "       1, 1, 1, 1, 1, 1, 1, 1, 1, 1, 1, 1, 1, 1, 1, 1, 1, 1, 1, 1, 1, 1,\n",
       "       1, 1, 1, 1, 1, 1, 1, 1, 1, 1, 1, 1, 1, 1, 1, 1, 1, 1, 1, 1, 1, 1,\n",
       "       1, 1, 1, 1, 1, 1, 1, 1, 1, 1, 1, 1, 1, 1, 1, 1, 1, 1, 1, 1, 1, 1,\n",
       "       1, 1, 1, 1, 1, 1, 1, 1, 1, 1, 1, 1, 1, 1, 1, 1, 1, 1, 1, 1, 1, 1,\n",
       "       1, 1, 1, 1, 1, 1, 1, 1, 1, 1, 1, 1, 1, 1, 1, 1, 1, 1, 1, 1])"
      ]
     },
     "execution_count": 35,
     "metadata": {},
     "output_type": "execute_result"
    }
   ],
   "source": [
    "#prediction\n",
    "prediction=model.predict(X_test)\n",
    "prediction  "
   ]
  },
  {
   "cell_type": "code",
   "execution_count": 36,
   "metadata": {},
   "outputs": [
    {
     "data": {
      "text/plain": [
       "73.64"
      ]
     },
     "execution_count": 36,
     "metadata": {},
     "output_type": "execute_result"
    }
   ],
   "source": [
    "#check the accuracy\n",
    "\n",
    "accuracy= round(model.score(X_train, y_train) * 100, 2) \n",
    "accuracy"
   ]
  },
  {
   "cell_type": "code",
   "execution_count": 37,
   "metadata": {},
   "outputs": [
    {
     "data": {
      "text/plain": [
       "array([[ 0, 37],\n",
       "       [ 0, 93]], dtype=int64)"
      ]
     },
     "execution_count": 37,
     "metadata": {},
     "output_type": "execute_result"
    }
   ],
   "source": [
    "#confusion matrix\n",
    "from sklearn.metrics import confusion_matrix\n",
    "confusion_matrix(y_test,prediction)"
   ]
  },
  {
   "cell_type": "markdown",
   "metadata": {},
   "source": [
    "# HYPER PARAMETER TUNING"
   ]
  },
  {
   "cell_type": "code",
   "execution_count": 39,
   "metadata": {},
   "outputs": [],
   "source": [
    "#from sklearn.model_selection import GridSearchCV"
   ]
  },
  {
   "cell_type": "code",
   "execution_count": 42,
   "metadata": {},
   "outputs": [],
   "source": [
    "#param={'kernel':('linear','poly','rbf','sigmoid'),\n",
    "\n",
    "       #  'C':[1,52,10],'degree':[3,8],'coef0':[0.001,10,0.5],'gamma':('auto','scale')}"
   ]
  },
  {
   "cell_type": "code",
   "execution_count": null,
   "metadata": {},
   "outputs": [],
   "source": [
    "#svm_grids=GridSearchCV(model,param,cv=5)"
   ]
  },
  {
   "cell_type": "code",
   "execution_count": null,
   "metadata": {},
   "outputs": [],
   "source": [
    "#svm_grids.fit(X_train,y_train)"
   ]
  },
  {
   "cell_type": "code",
   "execution_count": null,
   "metadata": {},
   "outputs": [],
   "source": [
    "#try different kernal to improve the model accuracy"
   ]
  },
  {
   "cell_type": "code",
   "execution_count": 45,
   "metadata": {},
   "outputs": [
    {
     "data": {
      "text/plain": [
       "SVC(kernel='poly')"
      ]
     },
     "execution_count": 45,
     "metadata": {},
     "output_type": "execute_result"
    }
   ],
   "source": [
    " #Kernel = poly\n",
    "model2 = SVC(kernel = 'poly')\n",
    "model2.fit(X_train,y_train)\n"
   ]
  },
  {
   "cell_type": "code",
   "execution_count": 46,
   "metadata": {},
   "outputs": [
    {
     "data": {
      "text/plain": [
       "array([1, 1, 1, 1, 1, 1, 1, 1, 1, 1, 1, 0, 1, 1, 1, 1, 1, 1, 1, 1, 1, 1,\n",
       "       1, 1, 1, 1, 1, 1, 1, 1, 1, 1, 1, 1, 1, 1, 1, 1, 1, 1, 1, 1, 1, 1,\n",
       "       1, 1, 1, 1, 1, 1, 1, 1, 1, 1, 1, 1, 1, 1, 1, 1, 1, 1, 1, 1, 1, 1,\n",
       "       1, 1, 1, 1, 1, 1, 1, 1, 1, 1, 1, 1, 1, 1, 1, 1, 1, 1, 1, 1, 1, 1,\n",
       "       1, 1, 1, 1, 1, 1, 1, 1, 1, 1, 1, 1, 1, 1, 1, 1, 1, 1, 1, 1, 1, 1,\n",
       "       1, 1, 1, 1, 1, 1, 1, 1, 1, 1, 1, 1, 1, 1, 1, 1, 1, 1, 1, 1])"
      ]
     },
     "execution_count": 46,
     "metadata": {},
     "output_type": "execute_result"
    }
   ],
   "source": [
    "#prediction\n",
    "pred2=model2.predict(X_test)\n",
    "pred2 "
   ]
  },
  {
   "cell_type": "code",
   "execution_count": 47,
   "metadata": {},
   "outputs": [
    {
     "data": {
      "text/plain": [
       "75.71"
      ]
     },
     "execution_count": 47,
     "metadata": {},
     "output_type": "execute_result"
    }
   ],
   "source": [
    "#check the accuracy\n",
    "\n",
    "accuracy= round(model2.score(X_train, y_train) * 100, 2) \n",
    "accuracy"
   ]
  },
  {
   "cell_type": "code",
   "execution_count": 48,
   "metadata": {},
   "outputs": [
    {
     "data": {
      "text/plain": [
       "SVC()"
      ]
     },
     "execution_count": 48,
     "metadata": {},
     "output_type": "execute_result"
    }
   ],
   "source": [
    "# kernel = rbf\n",
    "model3 = SVC(kernel = 'rbf')\n",
    "model3.fit(X_train,y_train)"
   ]
  },
  {
   "cell_type": "code",
   "execution_count": 49,
   "metadata": {},
   "outputs": [
    {
     "data": {
      "text/plain": [
       "array([1, 1, 1, 1, 1, 1, 1, 1, 1, 1, 1, 0, 1, 1, 1, 1, 1, 1, 1, 1, 1, 1,\n",
       "       1, 1, 1, 1, 1, 1, 1, 1, 1, 1, 1, 1, 1, 1, 1, 1, 1, 1, 1, 1, 1, 1,\n",
       "       1, 1, 1, 1, 1, 1, 1, 1, 1, 1, 1, 1, 1, 1, 1, 1, 1, 1, 1, 1, 1, 1,\n",
       "       1, 1, 1, 1, 1, 1, 1, 1, 1, 1, 1, 1, 1, 1, 1, 1, 1, 1, 1, 1, 1, 1,\n",
       "       1, 1, 1, 1, 1, 1, 1, 1, 1, 1, 1, 1, 1, 1, 1, 1, 1, 1, 1, 1, 1, 1,\n",
       "       1, 1, 1, 1, 1, 1, 1, 1, 1, 1, 1, 1, 1, 1, 1, 1, 1, 1, 1, 1])"
      ]
     },
     "execution_count": 49,
     "metadata": {},
     "output_type": "execute_result"
    }
   ],
   "source": [
    "#prediction\n",
    "pred3=model3.predict(X_test)\n",
    "pred3 "
   ]
  },
  {
   "cell_type": "code",
   "execution_count": 50,
   "metadata": {},
   "outputs": [
    {
     "data": {
      "text/plain": [
       "74.42"
      ]
     },
     "execution_count": 50,
     "metadata": {},
     "output_type": "execute_result"
    }
   ],
   "source": [
    "#check the accuracy\n",
    "\n",
    "accuracy= round(model3.score(X_train, y_train) * 100, 2) \n",
    "accuracy"
   ]
  },
  {
   "cell_type": "code",
   "execution_count": 51,
   "metadata": {},
   "outputs": [
    {
     "data": {
      "text/plain": [
       "SVC(kernel='sigmoid')"
      ]
     },
     "execution_count": 51,
     "metadata": {},
     "output_type": "execute_result"
    }
   ],
   "source": [
    "# kernel = sigmoid\n",
    "model4 = SVC(kernel = 'sigmoid')\n",
    "model4.fit(X_train,y_train)"
   ]
  },
  {
   "cell_type": "code",
   "execution_count": 52,
   "metadata": {},
   "outputs": [
    {
     "data": {
      "text/plain": [
       "array([1, 1, 1, 1, 1, 1, 1, 1, 1, 1, 1, 1, 1, 1, 1, 1, 1, 1, 1, 1, 1, 1,\n",
       "       1, 1, 1, 1, 1, 1, 1, 1, 1, 1, 1, 1, 1, 1, 1, 1, 1, 1, 1, 1, 1, 1,\n",
       "       1, 1, 1, 1, 1, 1, 1, 1, 1, 1, 1, 1, 1, 1, 1, 1, 1, 1, 1, 1, 1, 1,\n",
       "       1, 1, 1, 1, 1, 1, 1, 1, 1, 1, 1, 1, 1, 1, 1, 1, 1, 1, 1, 1, 1, 1,\n",
       "       1, 1, 1, 1, 1, 1, 1, 1, 1, 1, 1, 1, 1, 1, 1, 1, 1, 1, 1, 1, 1, 1,\n",
       "       1, 1, 1, 1, 1, 1, 1, 1, 1, 1, 1, 1, 1, 1, 1, 1, 1, 1, 1, 1])"
      ]
     },
     "execution_count": 52,
     "metadata": {},
     "output_type": "execute_result"
    }
   ],
   "source": [
    "#prediction\n",
    "pred4=model4.predict(X_test)\n",
    "pred4"
   ]
  },
  {
   "cell_type": "code",
   "execution_count": 53,
   "metadata": {},
   "outputs": [
    {
     "data": {
      "text/plain": [
       "73.39"
      ]
     },
     "execution_count": 53,
     "metadata": {},
     "output_type": "execute_result"
    }
   ],
   "source": [
    "#check the accuracy\n",
    "\n",
    "accuracy= round(model4.score(X_train, y_train) * 100, 2) \n",
    "accuracy"
   ]
  },
  {
   "cell_type": "code",
   "execution_count": 65,
   "metadata": {},
   "outputs": [
    {
     "data": {
      "text/plain": [
       "SVC(C=1, degree=8, kernel='poly')"
      ]
     },
     "execution_count": 65,
     "metadata": {},
     "output_type": "execute_result"
    }
   ],
   "source": [
    "#try different parameter to improve the accuracy of a model\n",
    "model5=SVC(kernel='poly',gamma=\"scale\",degree=8,C=1)\n",
    "model5.fit(X_train,y_train)"
   ]
  },
  {
   "cell_type": "code",
   "execution_count": 66,
   "metadata": {},
   "outputs": [
    {
     "data": {
      "text/plain": [
       "array([1, 1, 0, 1, 1, 1, 1, 1, 1, 1, 1, 0, 1, 1, 0, 0, 1, 1, 1, 0, 0, 1,\n",
       "       0, 1, 0, 1, 1, 1, 1, 1, 0, 1, 1, 1, 1, 1, 1, 1, 1, 1, 1, 1, 1, 1,\n",
       "       1, 1, 0, 1, 1, 0, 1, 1, 0, 0, 0, 1, 0, 1, 1, 1, 1, 1, 1, 1, 1, 1,\n",
       "       1, 1, 1, 1, 0, 1, 1, 1, 0, 1, 0, 1, 1, 1, 1, 1, 1, 1, 1, 1, 0, 1,\n",
       "       1, 0, 0, 1, 1, 0, 0, 1, 1, 1, 1, 1, 1, 1, 0, 1, 1, 1, 0, 0, 1, 1,\n",
       "       1, 0, 1, 1, 1, 0, 0, 1, 0, 0, 1, 1, 0, 0, 1, 1, 1, 1, 1, 1])"
      ]
     },
     "execution_count": 66,
     "metadata": {},
     "output_type": "execute_result"
    }
   ],
   "source": [
    "#prediction\n",
    "pred5=model5.predict(X_test)\n",
    "pred5"
   ]
  },
  {
   "cell_type": "code",
   "execution_count": null,
   "metadata": {},
   "outputs": [],
   "source": []
  },
  {
   "cell_type": "code",
   "execution_count": 67,
   "metadata": {},
   "outputs": [
    {
     "data": {
      "text/plain": [
       "93.54"
      ]
     },
     "execution_count": 67,
     "metadata": {},
     "output_type": "execute_result"
    }
   ],
   "source": [
    "#check the accuracy\n",
    "\n",
    "accuracy= round(model5.score(X_train, y_train) * 100, 2) \n",
    "accuracy"
   ]
  },
  {
   "cell_type": "code",
   "execution_count": null,
   "metadata": {},
   "outputs": [],
   "source": [
    "here we got better accuracy"
   ]
  },
  {
   "cell_type": "code",
   "execution_count": 91,
   "metadata": {},
   "outputs": [
    {
     "data": {
      "text/plain": [
       "(130, 10)"
      ]
     },
     "execution_count": 91,
     "metadata": {},
     "output_type": "execute_result"
    }
   ],
   "source": [
    "X_test.shape"
   ]
  },
  {
   "cell_type": "code",
   "execution_count": 70,
   "metadata": {},
   "outputs": [
    {
     "data": {
      "text/plain": [
       "(130,)"
      ]
     },
     "execution_count": 70,
     "metadata": {},
     "output_type": "execute_result"
    }
   ],
   "source": [
    "pred5.shape"
   ]
  },
  {
   "cell_type": "code",
   "execution_count": 92,
   "metadata": {},
   "outputs": [],
   "source": [
    "#create a dataframe that contains actual and predicted data\n"
   ]
  },
  {
   "cell_type": "code",
   "execution_count": 100,
   "metadata": {},
   "outputs": [
    {
     "data": {
      "text/html": [
       "<div>\n",
       "<style scoped>\n",
       "    .dataframe tbody tr th:only-of-type {\n",
       "        vertical-align: middle;\n",
       "    }\n",
       "\n",
       "    .dataframe tbody tr th {\n",
       "        vertical-align: top;\n",
       "    }\n",
       "\n",
       "    .dataframe thead th {\n",
       "        text-align: right;\n",
       "    }\n",
       "</style>\n",
       "<table border=\"1\" class=\"dataframe\">\n",
       "  <thead>\n",
       "    <tr style=\"text-align: right;\">\n",
       "      <th></th>\n",
       "      <th>actual_data</th>\n",
       "      <th>predicted_data</th>\n",
       "    </tr>\n",
       "  </thead>\n",
       "  <tbody>\n",
       "    <tr>\n",
       "      <th>0</th>\n",
       "      <td>1</td>\n",
       "      <td>1.0</td>\n",
       "    </tr>\n",
       "    <tr>\n",
       "      <th>1</th>\n",
       "      <td>1</td>\n",
       "      <td>1.0</td>\n",
       "    </tr>\n",
       "    <tr>\n",
       "      <th>2</th>\n",
       "      <td>1</td>\n",
       "      <td>0.0</td>\n",
       "    </tr>\n",
       "    <tr>\n",
       "      <th>3</th>\n",
       "      <td>1</td>\n",
       "      <td>1.0</td>\n",
       "    </tr>\n",
       "    <tr>\n",
       "      <th>4</th>\n",
       "      <td>1</td>\n",
       "      <td>1.0</td>\n",
       "    </tr>\n",
       "    <tr>\n",
       "      <th>5</th>\n",
       "      <td>1</td>\n",
       "      <td>1.0</td>\n",
       "    </tr>\n",
       "    <tr>\n",
       "      <th>6</th>\n",
       "      <td>1</td>\n",
       "      <td>1.0</td>\n",
       "    </tr>\n",
       "    <tr>\n",
       "      <th>7</th>\n",
       "      <td>1</td>\n",
       "      <td>1.0</td>\n",
       "    </tr>\n",
       "    <tr>\n",
       "      <th>8</th>\n",
       "      <td>1</td>\n",
       "      <td>1.0</td>\n",
       "    </tr>\n",
       "    <tr>\n",
       "      <th>9</th>\n",
       "      <td>1</td>\n",
       "      <td>1.0</td>\n",
       "    </tr>\n",
       "    <tr>\n",
       "      <th>10</th>\n",
       "      <td>1</td>\n",
       "      <td>1.0</td>\n",
       "    </tr>\n",
       "    <tr>\n",
       "      <th>11</th>\n",
       "      <td>1</td>\n",
       "      <td>0.0</td>\n",
       "    </tr>\n",
       "    <tr>\n",
       "      <th>12</th>\n",
       "      <td>1</td>\n",
       "      <td>1.0</td>\n",
       "    </tr>\n",
       "    <tr>\n",
       "      <th>13</th>\n",
       "      <td>1</td>\n",
       "      <td>1.0</td>\n",
       "    </tr>\n",
       "    <tr>\n",
       "      <th>14</th>\n",
       "      <td>1</td>\n",
       "      <td>0.0</td>\n",
       "    </tr>\n",
       "    <tr>\n",
       "      <th>15</th>\n",
       "      <td>1</td>\n",
       "      <td>0.0</td>\n",
       "    </tr>\n",
       "    <tr>\n",
       "      <th>16</th>\n",
       "      <td>1</td>\n",
       "      <td>1.0</td>\n",
       "    </tr>\n",
       "    <tr>\n",
       "      <th>17</th>\n",
       "      <td>1</td>\n",
       "      <td>1.0</td>\n",
       "    </tr>\n",
       "    <tr>\n",
       "      <th>18</th>\n",
       "      <td>1</td>\n",
       "      <td>1.0</td>\n",
       "    </tr>\n",
       "    <tr>\n",
       "      <th>19</th>\n",
       "      <td>1</td>\n",
       "      <td>0.0</td>\n",
       "    </tr>\n",
       "  </tbody>\n",
       "</table>\n",
       "</div>"
      ],
      "text/plain": [
       "    actual_data  predicted_data\n",
       "0             1             1.0\n",
       "1             1             1.0\n",
       "2             1             0.0\n",
       "3             1             1.0\n",
       "4             1             1.0\n",
       "5             1             1.0\n",
       "6             1             1.0\n",
       "7             1             1.0\n",
       "8             1             1.0\n",
       "9             1             1.0\n",
       "10            1             1.0\n",
       "11            1             0.0\n",
       "12            1             1.0\n",
       "13            1             1.0\n",
       "14            1             0.0\n",
       "15            1             0.0\n",
       "16            1             1.0\n",
       "17            1             1.0\n",
       "18            1             1.0\n",
       "19            1             0.0"
      ]
     },
     "execution_count": 100,
     "metadata": {},
     "output_type": "execute_result"
    }
   ],
   "source": [
    "pred_data=pd.DataFrame(pred5)\n",
    "final_data=pd.concat([forest_data[[\"size_category\"]],pred_data],axis=1)\n",
    "final_data.columns=[\"actual_data\",\"predicted_data\"]\n",
    "final_data.head(20)"
   ]
  },
  {
   "cell_type": "code",
   "execution_count": null,
   "metadata": {},
   "outputs": [],
   "source": []
  },
  {
   "cell_type": "code",
   "execution_count": null,
   "metadata": {},
   "outputs": [],
   "source": []
  },
  {
   "cell_type": "code",
   "execution_count": null,
   "metadata": {},
   "outputs": [],
   "source": []
  }
 ],
 "metadata": {
  "kernelspec": {
   "display_name": "Python 3",
   "language": "python",
   "name": "python3"
  },
  "language_info": {
   "codemirror_mode": {
    "name": "ipython",
    "version": 3
   },
   "file_extension": ".py",
   "mimetype": "text/x-python",
   "name": "python",
   "nbconvert_exporter": "python",
   "pygments_lexer": "ipython3",
   "version": "3.7.4"
  }
 },
 "nbformat": 4,
 "nbformat_minor": 4
}
